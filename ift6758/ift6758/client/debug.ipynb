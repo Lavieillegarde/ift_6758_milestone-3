{
 "cells": [
  {
   "cell_type": "code",
   "execution_count": null,
   "id": "0930881b",
   "metadata": {},
   "outputs": [],
   "source": [
    "import sys\n",
    "sys.path.append('ift_6758_milestone_3/ift6758')\n",
    "from ift6758.client.serving_client import ServingClient\n",
    "\n",
    "import requests\n",
    "import pickle\n",
    "import json\n",
    "import pandas as pd\n",
    "import numpy as np\n",
    "import os"
   ]
  },
  {
   "cell_type": "code",
   "execution_count": null,
   "id": "7ef1b0bd",
   "metadata": {},
   "outputs": [],
   "source": [
    "Serving_client = ServingClient()\n",
    "\n",
    "workspace = \"jhd\"\n",
    "model_type = 'xgboost'\n",
    "version = '1.1.0'"
   ]
  },
  {
   "cell_type": "code",
   "execution_count": null,
   "id": "627ca29f",
   "metadata": {},
   "outputs": [],
   "source": [
    "## Test Download Registry Model ##\n",
    "loading_response_1 = Serving_client.download_registry_model(workspace, model_type, version)\n",
    "assert(loading_response_1['Loading'] == 'Success')\n",
    "\n",
    "\n",
    "loading_response_2 = Serving_client.download_registry_model(workspace, model_type, '2.0.0')\n",
    "assert(loading_response_2['Loading'] == 'Failure')"
   ]
  },
  {
   "cell_type": "code",
   "execution_count": null,
   "id": "b45b9b91",
   "metadata": {},
   "outputs": [],
   "source": [
    "## Test predict ##\n",
    "features_dict = {\n",
    "                 '1.1.0': ['goal_distance'],\n",
    "                 '1.2.0': ['angle'],\n",
    "                 '1.3.0': ['goal_distance', 'angle']\n",
    "                }\n",
    "\n",
    "# Any game\n",
    "X_raw = pd.read_csv('ift6758/ift6758/data/wpg_v_wsh_2017021065.csv')\n",
    "\n",
    "# Dummy to test that we keep last loaded model if model does not exist\n",
    "for model_type in ['logisticregression', 'xgboost', 'dummy']:\n",
    "    for version in ['1.1.0', '1.2.0', '1.3.0']:\n",
    "        print(version)\n",
    "        if (model_type != 'dummy') or (version == '1.3.0'):\n",
    "            loading_response = Serving_client.download_registry_model(workspace, model_type, version)\n",
    "            if model_type != 'dummy':\n",
    "                output_path = f'./serving/models/{workspace}/{model_type}/{version}'\n",
    "            else:\n",
    "                output_path = f'./serving/models/jhd/xgboost/1.3.0'\n",
    "            with open(os.path.join(output_path, 'model-data', 'comet-sklearn-model.pkl'), 'rb') as f:\n",
    "                model = pickle.load(f)\n",
    "\n",
    "            X = X_raw[X_raw['event_name'].isin(['Shot', 'Goal'])].reset_index(drop=True)\n",
    "            X = X[features_dict[version]]\n",
    "\n",
    "            X_dict = json.loads(X.to_json())\n",
    "            data = pd.DataFrame.from_dict(X_dict)\n",
    "            true_predictions = pd.DataFrame(model.predict_proba(data), columns = ['predictions_0', 'predictions_1'])\n",
    "            true_predictions = true_predictions.astype('float64')\n",
    "\n",
    "            predictions = Serving_client.predict(X)\n",
    "\n",
    "            assert(true_predictions.equals(predictions))"
   ]
  }
 ],
 "metadata": {
  "kernelspec": {
   "display_name": "Python (climatenet)",
   "language": "python",
   "name": "climatenet"
  },
  "language_info": {
   "codemirror_mode": {
    "name": "ipython",
    "version": 3
   },
   "file_extension": ".py",
   "mimetype": "text/x-python",
   "name": "python",
   "nbconvert_exporter": "python",
   "pygments_lexer": "ipython3",
   "version": "3.9.13"
  }
 },
 "nbformat": 4,
 "nbformat_minor": 5
}
