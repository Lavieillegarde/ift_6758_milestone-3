{
 "cells": [
  {
   "cell_type": "code",
   "execution_count": null,
   "outputs": [],
   "source": [
    "import sys\n",
    "sys.path.append('ift_6758_milestone_3/ift6758')\n",
    "from ift6758.client.serving_client import ServingClient\n",
    "from ift6758.client.game_client import Game\n",
    "\n",
    "import requests\n",
    "import pickle\n",
    "import json\n",
    "import pandas as pd\n",
    "import numpy as np\n",
    "import os"
   ],
   "metadata": {
    "collapsed": false,
    "pycharm": {
     "name": "#%%\n"
    }
   }
  },
  {
   "cell_type": "code",
   "execution_count": null,
   "outputs": [],
   "source": [
    "Serving_client = ServingClient()\n",
    "\n",
    "workspace = \"jhd\"\n",
    "model_type = 'xgboost'\n",
    "version = '1.1.0'"
   ],
   "metadata": {
    "collapsed": false,
    "pycharm": {
     "name": "#%%\n"
    }
   }
  },
  {
   "cell_type": "code",
   "execution_count": null,
   "outputs": [],
   "source": [
    "## Test Download Registry Model ##\n",
    "loading_response_1 = Serving_client.download_registry_model(workspace, model_type, version)\n",
    "assert(loading_response_1['Loading'] == 'Success')\n",
    "\n",
    "\n",
    "loading_response_2 = Serving_client.download_registry_model(workspace, model_type, '2.0.0')\n",
    "assert(loading_response_2['Loading'] == 'Failure')"
   ],
   "metadata": {
    "collapsed": false,
    "pycharm": {
     "name": "#%%\n"
    }
   }
  },
  {
   "cell_type": "code",
   "execution_count": null,
   "outputs": [],
   "source": [
    "## Test predict ##\n",
    "features_dict = {\n",
    "                 '1.1.0': ['goal_distance'],\n",
    "                 '1.2.0': ['angle'],\n",
    "                 '1.3.0': ['goal_distance', 'angle']\n",
    "                }\n",
    "\n",
    "# Any game\n",
    "X_raw = pd.read_csv('ift6758/ift6758/data/wpg_v_wsh_2017021065.csv')\n",
    "\n",
    "# Dummy to test that we keep last loaded model if model does not exist\n",
    "for model_type in ['logisticregression', 'xgboost', 'dummy']:\n",
    "    for version in ['1.1.0', '1.2.0', '1.3.0']:\n",
    "        print(version)\n",
    "        if (model_type != 'dummy') or (version == '1.3.0'):\n",
    "            loading_response = Serving_client.download_registry_model(workspace, model_type, version)\n",
    "            if model_type != 'dummy':\n",
    "                output_path = f'./serving/models/{workspace}/{model_type}/{version}'\n",
    "            else:\n",
    "                output_path = f'./serving/models/jhd/xgboost/1.3.0'\n",
    "            with open(os.path.join(output_path, 'model-data', 'comet-sklearn-model.pkl'), 'rb') as f:\n",
    "                model = pickle.load(f)\n",
    "\n",
    "            X = X_raw[X_raw['event_name'].isin(['Shot', 'Goal'])].reset_index(drop=True)\n",
    "            X = X[features_dict[version]]\n",
    "\n",
    "            X_dict = json.loads(X.to_json())\n",
    "            data = pd.DataFrame.from_dict(X_dict)\n",
    "            true_predictions = pd.DataFrame(model.predict_proba(data), columns = ['predictions_0', 'predictions_1'])\n",
    "            true_predictions = true_predictions.astype('float64')\n",
    "\n",
    "            predictions = Serving_client.predict(X)\n",
    "\n",
    "            assert(true_predictions.equals(predictions))"
   ],
   "metadata": {
    "collapsed": false,
    "pycharm": {
     "name": "#%%\n"
    }
   }
  },
  {
   "cell_type": "code",
   "execution_count": null,
   "outputs": [],
   "source": [
    "## Test predict ##\n",
    "features_dict = {\n",
    "                 '1.1.0': ['goal_distance'],\n",
    "                 '1.2.0': ['angle'],\n",
    "                 '1.3.0': ['goal_distance', 'angle']\n",
    "                }\n",
    "\n",
    "# Any game\n",
    "game = Game(\"2016020001\")\n",
    "\n",
    "game.feat_eng_part2()\n",
    "\n",
    "clean_game = game.clean\n",
    "\n",
    "clean_game\n",
    "\n",
    "# st.session_state.servingClient.predict(st.session_state['clean_game'])"
   ],
   "metadata": {
    "collapsed": false,
    "pycharm": {
     "name": "#%%\n"
    }
   }
  },
  {
   "cell_type": "code",
   "execution_count": 3,
   "id": "7877a56a",
   "metadata": {
    "pycharm": {
     "name": "#%%\n"
    }
   },
   "outputs": [
    {
     "ename": "FileNotFoundError",
     "evalue": "[Errno 2] No such file or directory: 'ift6758\\\\ift6758\\\\data\\\\game\\\\play-by-play_2016020001.json'",
     "output_type": "error",
     "traceback": [
      "\u001B[1;31m---------------------------------------------------------------------------\u001B[0m",
      "\u001B[1;31mFileNotFoundError\u001B[0m                         Traceback (most recent call last)",
      "Cell \u001B[1;32mIn[3], line 9\u001B[0m\n\u001B[0;32m      2\u001B[0m features_dict \u001B[38;5;241m=\u001B[39m {\n\u001B[0;32m      3\u001B[0m                  \u001B[38;5;124m'\u001B[39m\u001B[38;5;124m1.1.0\u001B[39m\u001B[38;5;124m'\u001B[39m: [\u001B[38;5;124m'\u001B[39m\u001B[38;5;124mgoal_distance\u001B[39m\u001B[38;5;124m'\u001B[39m],\n\u001B[0;32m      4\u001B[0m                  \u001B[38;5;124m'\u001B[39m\u001B[38;5;124m1.2.0\u001B[39m\u001B[38;5;124m'\u001B[39m: [\u001B[38;5;124m'\u001B[39m\u001B[38;5;124mangle\u001B[39m\u001B[38;5;124m'\u001B[39m],\n\u001B[0;32m      5\u001B[0m                  \u001B[38;5;124m'\u001B[39m\u001B[38;5;124m1.3.0\u001B[39m\u001B[38;5;124m'\u001B[39m: [\u001B[38;5;124m'\u001B[39m\u001B[38;5;124mgoal_distance\u001B[39m\u001B[38;5;124m'\u001B[39m, \u001B[38;5;124m'\u001B[39m\u001B[38;5;124mangle\u001B[39m\u001B[38;5;124m'\u001B[39m]\n\u001B[0;32m      6\u001B[0m                 }\n\u001B[0;32m      8\u001B[0m \u001B[38;5;66;03m# Any game\u001B[39;00m\n\u001B[1;32m----> 9\u001B[0m game \u001B[38;5;241m=\u001B[39m \u001B[43mGame\u001B[49m\u001B[43m(\u001B[49m\u001B[38;5;124;43m\"\u001B[39;49m\u001B[38;5;124;43m2016020001\u001B[39;49m\u001B[38;5;124;43m\"\u001B[39;49m\u001B[43m)\u001B[49m\n\u001B[0;32m     11\u001B[0m game\u001B[38;5;241m.\u001B[39mfeat_eng_part2()\n\u001B[0;32m     13\u001B[0m clean_game \u001B[38;5;241m=\u001B[39m game\u001B[38;5;241m.\u001B[39mclean\n",
      "File \u001B[1;32mc:\\users\\joels\\pycharmprojects\\ift_6758_milestone-3\\ift6758\\ift6758\\client\\game_client.py:220\u001B[0m, in \u001B[0;36mGame.__init__\u001B[1;34m(self, game_id, overwrite)\u001B[0m\n\u001B[0;32m    216\u001B[0m \u001B[38;5;28;01melse\u001B[39;00m:\n\u001B[0;32m    218\u001B[0m     url0, url1, url2 \u001B[38;5;241m=\u001B[39m DataAcquisition\u001B[38;5;241m.\u001B[39murl_format(game_id)\u001B[38;5;66;03m# play, landing, boxscore\u001B[39;00m\n\u001B[1;32m--> 220\u001B[0m     file_path0 \u001B[38;5;241m=\u001B[39m \u001B[43mDataAcquisition\u001B[49m\u001B[38;5;241;43m.\u001B[39;49m\u001B[43mdownload_from_url\u001B[49m\u001B[43m(\u001B[49m\u001B[43murl0\u001B[49m\u001B[43m,\u001B[49m\u001B[43m \u001B[49m\u001B[43mdata_path\u001B[49m\u001B[43m,\u001B[49m\u001B[38;5;124;43mf\u001B[39;49m\u001B[38;5;124;43m'\u001B[39;49m\u001B[38;5;124;43mplay-by-play_\u001B[39;49m\u001B[38;5;132;43;01m{\u001B[39;49;00m\u001B[43mgame_id\u001B[49m\u001B[38;5;132;43;01m}\u001B[39;49;00m\u001B[38;5;124;43m'\u001B[39;49m\u001B[43m)\u001B[49m\n\u001B[0;32m    221\u001B[0m     file_path1 \u001B[38;5;241m=\u001B[39m DataAcquisition\u001B[38;5;241m.\u001B[39mdownload_from_url(url1, data_path,\u001B[38;5;124mf\u001B[39m\u001B[38;5;124m'\u001B[39m\u001B[38;5;124mlanding_\u001B[39m\u001B[38;5;132;01m{\u001B[39;00mgame_id\u001B[38;5;132;01m}\u001B[39;00m\u001B[38;5;124m'\u001B[39m)\n\u001B[0;32m    222\u001B[0m     file_path2 \u001B[38;5;241m=\u001B[39m DataAcquisition\u001B[38;5;241m.\u001B[39mdownload_from_url(url2, data_path, \u001B[38;5;124mf\u001B[39m\u001B[38;5;124m'\u001B[39m\u001B[38;5;124mboxscore_\u001B[39m\u001B[38;5;132;01m{\u001B[39;00mgame_id\u001B[38;5;132;01m}\u001B[39;00m\u001B[38;5;124m'\u001B[39m)\n",
      "File \u001B[1;32mc:\\users\\joels\\pycharmprojects\\ift_6758_milestone-3\\ift6758\\ift6758\\client\\game_client.py:186\u001B[0m, in \u001B[0;36mDataAcquisition.download_from_url\u001B[1;34m(url, path, file_name)\u001B[0m\n\u001B[0;32m    182\u001B[0m \u001B[38;5;250m\u001B[39m\u001B[38;5;124;03m\"\"\"\u001B[39;00m\n\u001B[0;32m    183\u001B[0m \u001B[38;5;124;03mTelecharge le json associe au lien.\u001B[39;00m\n\u001B[0;32m    184\u001B[0m \u001B[38;5;124;03m\"\"\"\u001B[39;00m\n\u001B[0;32m    185\u001B[0m file_path \u001B[38;5;241m=\u001B[39m DataAcquisition\u001B[38;5;241m.\u001B[39mfile_path_format(path, file_name)\n\u001B[1;32m--> 186\u001B[0m \u001B[38;5;28;01mwith\u001B[39;00m \u001B[38;5;28;43mopen\u001B[39;49m\u001B[43m(\u001B[49m\u001B[43mfile_path\u001B[49m\u001B[43m,\u001B[49m\u001B[43m \u001B[49m\u001B[38;5;124;43m'\u001B[39;49m\u001B[38;5;124;43mw\u001B[39;49m\u001B[38;5;124;43m'\u001B[39;49m\u001B[43m,\u001B[49m\u001B[43m \u001B[49m\u001B[43mencoding\u001B[49m\u001B[38;5;241;43m=\u001B[39;49m\u001B[38;5;124;43m\"\u001B[39;49m\u001B[38;5;124;43mutf-8\u001B[39;49m\u001B[38;5;124;43m\"\u001B[39;49m\u001B[43m)\u001B[49m \u001B[38;5;28;01mas\u001B[39;00m file:\n\u001B[0;32m    187\u001B[0m     file\u001B[38;5;241m.\u001B[39mwrite(requests\u001B[38;5;241m.\u001B[39mget(url)\u001B[38;5;241m.\u001B[39mtext)\n\u001B[0;32m    189\u001B[0m \u001B[38;5;28;01mreturn\u001B[39;00m file_path\n",
      "\u001B[1;31mFileNotFoundError\u001B[0m: [Errno 2] No such file or directory: 'ift6758\\\\ift6758\\\\data\\\\game\\\\play-by-play_2016020001.json'"
     ]
    }
   ],
   "source": [
    "## Test predict ##\n",
    "features_dict = {\n",
    "                 '1.1.0': ['goal_distance'],\n",
    "                 '1.2.0': ['angle'],\n",
    "                 '1.3.0': ['goal_distance', 'angle']\n",
    "                }\n",
    "\n",
    "# Any game\n",
    "game = Game(\"2016020001\")\n",
    "\n",
    "game.feat_eng_part2()\n",
    "\n",
    "clean_game = game.clean\n",
    "\n",
    "clean_game\n",
    "\n",
    "# st.session_state.servingClient.predict(st.session_state['clean_game'])"
   ]
  },
  {
   "cell_type": "code",
   "execution_count": null,
   "id": "a1c72d26",
   "metadata": {
    "pycharm": {
     "name": "#%%\n"
    }
   },
   "outputs": [],
   "source": []
  }
 ],
 "metadata": {
  "kernelspec": {
   "display_name": "Python 3 (ipykernel)",
   "language": "python",
   "name": "python3"
  },
  "language_info": {
   "codemirror_mode": {
    "name": "ipython",
    "version": 3
   },
   "file_extension": ".py",
   "mimetype": "text/x-python",
   "name": "python",
   "nbconvert_exporter": "python",
   "pygments_lexer": "ipython3",
   "version": "3.9.13"
  }
 },
 "nbformat": 4,
 "nbformat_minor": 5
}